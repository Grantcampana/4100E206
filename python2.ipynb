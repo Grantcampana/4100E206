{
  "nbformat": 4,
  "nbformat_minor": 0,
  "metadata": {
    "colab": {
      "name": "python 2.ipynb",
      "provenance": [],
      "collapsed_sections": [],
      "include_colab_link": true
    },
    "kernelspec": {
      "name": "python3",
      "display_name": "Python 3"
    },
    "language_info": {
      "name": "python"
    }
  },
  "cells": [
    {
      "cell_type": "markdown",
      "metadata": {
        "id": "view-in-github",
        "colab_type": "text"
      },
      "source": [
        "<a href=\"https://colab.research.google.com/github/Grantcampana/4100E206/blob/CODES/python2.ipynb\" target=\"_parent\"><img src=\"https://colab.research.google.com/assets/colab-badge.svg\" alt=\"Open In Colab\"/></a>"
      ]
    },
    {
      "cell_type": "markdown",
      "metadata": {
        "id": "sQj-pQRy-mhL"
      },
      "source": [
        "#Numerics Data Type"
      ]
    },
    {
      "cell_type": "markdown",
      "metadata": {
        "id": "-WoEiqGhQ4MG"
      },
      "source": [
        "Date: 20211011\n",
        "\n",
        "Name: Grant Lester Campana"
      ]
    },
    {
      "cell_type": "markdown",
      "metadata": {
        "id": "YevA4oTcQr0W"
      },
      "source": [
        "#Arithmetic Operators"
      ]
    },
    {
      "cell_type": "code",
      "metadata": {
        "colab": {
          "base_uri": "https://localhost:8080/"
        },
        "id": "R2bFk10x-7XG",
        "outputId": "7511b957-a94b-4554-8a93-72298a43024f"
      },
      "source": [
        "a = 18 / 3\n",
        "a"
      ],
      "execution_count": 1,
      "outputs": [
        {
          "output_type": "execute_result",
          "data": {
            "text/plain": [
              "6.0"
            ]
          },
          "metadata": {},
          "execution_count": 1
        }
      ]
    },
    {
      "cell_type": "code",
      "metadata": {
        "colab": {
          "base_uri": "https://localhost:8080/"
        },
        "id": "Rpsw-oLn_DF3",
        "outputId": "15424e2c-b5dc-4fe1-a44d-1ae8214e9365"
      },
      "source": [
        "b = 18 // 3\n",
        "b"
      ],
      "execution_count": 3,
      "outputs": [
        {
          "output_type": "execute_result",
          "data": {
            "text/plain": [
              "6"
            ]
          },
          "metadata": {},
          "execution_count": 3
        }
      ]
    },
    {
      "cell_type": "code",
      "metadata": {
        "colab": {
          "base_uri": "https://localhost:8080/"
        },
        "id": "2FOS4fia_P1x",
        "outputId": "77566e8a-1141-4c2a-919d-1bddbe97d0c9"
      },
      "source": [
        "c = 18 % 3\n",
        "c"
      ],
      "execution_count": 4,
      "outputs": [
        {
          "output_type": "execute_result",
          "data": {
            "text/plain": [
              "0"
            ]
          },
          "metadata": {},
          "execution_count": 4
        }
      ]
    },
    {
      "cell_type": "markdown",
      "metadata": {
        "id": "YFQVdsmrAMWw"
      },
      "source": [
        "#Logical operators"
      ]
    },
    {
      "cell_type": "code",
      "metadata": {
        "colab": {
          "base_uri": "https://localhost:8080/"
        },
        "id": "tgBxn9wLAQAg",
        "outputId": "1f7c4b63-d94e-4f2e-8710-b4902483fb1d"
      },
      "source": [
        "x = 7\n",
        "print(x > 6 and x < 9)"
      ],
      "execution_count": 5,
      "outputs": [
        {
          "output_type": "stream",
          "name": "stdout",
          "text": [
            "True\n"
          ]
        }
      ]
    },
    {
      "cell_type": "code",
      "metadata": {
        "colab": {
          "base_uri": "https://localhost:8080/"
        },
        "id": "fPPbyKuJAh16",
        "outputId": "4b86edf7-0b02-4d29-af87-9ef2b5692eea"
      },
      "source": [
        "x = 7\n",
        "print(x > 6 and x > 9)"
      ],
      "execution_count": 6,
      "outputs": [
        {
          "output_type": "stream",
          "name": "stdout",
          "text": [
            "False\n"
          ]
        }
      ]
    },
    {
      "cell_type": "code",
      "metadata": {
        "colab": {
          "base_uri": "https://localhost:8080/"
        },
        "id": "QZNH6qFOBLSz",
        "outputId": "aa0f66f8-aaf9-4f9b-d8dd-a786713133e4"
      },
      "source": [
        "x = 7\n",
        "print(x > 6 or x > 9)"
      ],
      "execution_count": 7,
      "outputs": [
        {
          "output_type": "stream",
          "name": "stdout",
          "text": [
            "True\n"
          ]
        }
      ]
    },
    {
      "cell_type": "markdown",
      "metadata": {
        "id": "dlzddQ9hBR2g"
      },
      "source": [
        "#Built-in functions"
      ]
    },
    {
      "cell_type": "code",
      "metadata": {
        "colab": {
          "base_uri": "https://localhost:8080/",
          "height": 35
        },
        "id": "b23Itb2_BV8S",
        "outputId": "98af6cf0-ea59-4072-d6d3-2472345a11cf"
      },
      "source": [
        "oct(10)"
      ],
      "execution_count": null,
      "outputs": [
        {
          "output_type": "execute_result",
          "data": {
            "application/vnd.google.colaboratory.intrinsic+json": {
              "type": "string"
            },
            "text/plain": [
              "'0o12'"
            ]
          },
          "metadata": {},
          "execution_count": 16
        }
      ]
    },
    {
      "cell_type": "code",
      "metadata": {
        "colab": {
          "base_uri": "https://localhost:8080/",
          "height": 35
        },
        "id": "i00BxucTB2Ui",
        "outputId": "17478772-3bee-427c-ce29-819cf6701a6d"
      },
      "source": [
        "hex(43)"
      ],
      "execution_count": null,
      "outputs": [
        {
          "output_type": "execute_result",
          "data": {
            "application/vnd.google.colaboratory.intrinsic+json": {
              "type": "string"
            },
            "text/plain": [
              "'0x2b'"
            ]
          },
          "metadata": {},
          "execution_count": 19
        }
      ]
    },
    {
      "cell_type": "markdown",
      "metadata": {
        "id": "xvS4pfH0Dexo"
      },
      "source": [
        "#string data type"
      ]
    },
    {
      "cell_type": "code",
      "metadata": {
        "colab": {
          "base_uri": "https://localhost:8080/",
          "height": 35
        },
        "id": "Dq_CyeEbEY9D",
        "outputId": "cef13e2e-dab0-42ae-ccce-2f6d468b598a"
      },
      "source": [
        "str3 = 'You are \"special\"'\n",
        "str3"
      ],
      "execution_count": 8,
      "outputs": [
        {
          "output_type": "execute_result",
          "data": {
            "application/vnd.google.colaboratory.intrinsic+json": {
              "type": "string"
            },
            "text/plain": [
              "'You are \"special\"'"
            ]
          },
          "metadata": {},
          "execution_count": 8
        }
      ]
    },
    {
      "cell_type": "code",
      "metadata": {
        "colab": {
          "base_uri": "https://localhost:8080/"
        },
        "id": "T9vklinzFL6a",
        "outputId": "7437e81c-f382-4051-d4ac-d86aef27a8b9"
      },
      "source": [
        "var1 = 'Hello Jungle!'\n",
        "\n",
        "print(\"var1[3]: \", var1[3])"
      ],
      "execution_count": 9,
      "outputs": [
        {
          "output_type": "stream",
          "name": "stdout",
          "text": [
            "var1[3]:  l\n"
          ]
        }
      ]
    },
    {
      "cell_type": "code",
      "metadata": {
        "colab": {
          "base_uri": "https://localhost:8080/"
        },
        "id": "JH1hgnt7GDkF",
        "outputId": "b1ae7162-f884-4b47-86a8-9949316004a3"
      },
      "source": [
        "b = \"Hello, Paradise!\"\n",
        "print(b[:16])"
      ],
      "execution_count": 11,
      "outputs": [
        {
          "output_type": "stream",
          "name": "stdout",
          "text": [
            "Hello, Paradise!\n"
          ]
        }
      ]
    },
    {
      "cell_type": "code",
      "metadata": {
        "colab": {
          "base_uri": "https://localhost:8080/"
        },
        "id": "saS1enEVHaoj",
        "outputId": "ffbf4242-2388-4935-d7de-629e8b738eca"
      },
      "source": [
        "txt = \"hey, and welcome to my cave.\"\n",
        "\n",
        "x = txt.capitalize()\n",
        "\n",
        "print (x)"
      ],
      "execution_count": 12,
      "outputs": [
        {
          "output_type": "stream",
          "name": "stdout",
          "text": [
            "Hey, and welcome to my cave.\n"
          ]
        }
      ]
    },
    {
      "cell_type": "code",
      "metadata": {
        "colab": {
          "base_uri": "https://localhost:8080/"
        },
        "id": "3LvQlnmVHeko",
        "outputId": "f04f8c12-251e-4b8c-be53-e40d30c387b3"
      },
      "source": [
        "Dog = (\"Bible\", \"Mashi\", \"Miko\")\n",
        "\n",
        "x = \"#\".join(Dog)\n",
        "\n",
        "print(x)"
      ],
      "execution_count": 14,
      "outputs": [
        {
          "output_type": "stream",
          "name": "stdout",
          "text": [
            "Bible#Mashi#Miko\n"
          ]
        }
      ]
    },
    {
      "cell_type": "code",
      "metadata": {
        "colab": {
          "base_uri": "https://localhost:8080/"
        },
        "id": "GT_dOuNwHuVI",
        "outputId": "d2316689-4e45-4eb5-898f-3cf4ae941121"
      },
      "source": [
        "txt = \"Strawberry\"\n",
        "\n",
        "x = txt.ljust(8)\n",
        "\n",
        "print(x, \"is the fruit I hate.\")"
      ],
      "execution_count": 15,
      "outputs": [
        {
          "output_type": "stream",
          "name": "stdout",
          "text": [
            "Strawberry is the fruit I hate.\n"
          ]
        }
      ]
    },
    {
      "cell_type": "code",
      "metadata": {
        "colab": {
          "base_uri": "https://localhost:8080/"
        },
        "id": "GZpJbA8VINjo",
        "outputId": "991b5492-4c7a-4a48-ac1a-d0a8f85d30d9"
      },
      "source": [
        "txt = \"     strawberry     \"\n",
        "\n",
        "x = txt.lstrip()\n",
        "\n",
        "print(\"of all fruits\", x, \"is the one I dislike\")"
      ],
      "execution_count": 16,
      "outputs": [
        {
          "output_type": "stream",
          "name": "stdout",
          "text": [
            "of all fruits strawberry      is the one I dislike\n"
          ]
        }
      ]
    },
    {
      "cell_type": "markdown",
      "metadata": {
        "id": "LyntkVD4LhvK"
      },
      "source": [
        "#list data type"
      ]
    },
    {
      "cell_type": "code",
      "metadata": {
        "colab": {
          "base_uri": "https://localhost:8080/"
        },
        "id": "djMsl79NLb6Y",
        "outputId": "c6d881cd-bff5-4816-a2ce-7504ed7dabba"
      },
      "source": [
        "list1 = [21, 56, 10, 2, 89, 19]\n",
        "list1[:3]"
      ],
      "execution_count": 17,
      "outputs": [
        {
          "output_type": "execute_result",
          "data": {
            "text/plain": [
              "[21, 56, 10]"
            ]
          },
          "metadata": {},
          "execution_count": 17
        }
      ]
    },
    {
      "cell_type": "code",
      "metadata": {
        "colab": {
          "base_uri": "https://localhost:8080/"
        },
        "id": "St_1pp1mNEuC",
        "outputId": "30afa194-2231-4ecb-faf7-c03450f51f28"
      },
      "source": [
        "list1 = [21, 56, 10, 2, 89, 19]\n",
        "max(list1)"
      ],
      "execution_count": 18,
      "outputs": [
        {
          "output_type": "execute_result",
          "data": {
            "text/plain": [
              "89"
            ]
          },
          "metadata": {},
          "execution_count": 18
        }
      ]
    },
    {
      "cell_type": "markdown",
      "metadata": {
        "id": "3eB5sCLMNnkY"
      },
      "source": [
        "#Dict Data"
      ]
    },
    {
      "cell_type": "code",
      "metadata": {
        "colab": {
          "base_uri": "https://localhost:8080/"
        },
        "id": "aiSJXH6qNp4i",
        "outputId": "e457b97d-2073-4eb1-a4fb-f386ccca40bb"
      },
      "source": [
        "dict = {'Name': 'Grant', 'Age': 20, 'Class': 'First'}\n",
        "print (\"dict['Name']: \", dict['Name'])"
      ],
      "execution_count": 19,
      "outputs": [
        {
          "output_type": "stream",
          "name": "stdout",
          "text": [
            "dict['Name']:  Grant\n"
          ]
        }
      ]
    },
    {
      "cell_type": "code",
      "metadata": {
        "colab": {
          "base_uri": "https://localhost:8080/"
        },
        "id": "olHknumaStvt",
        "outputId": "ef3529e6-861a-4f13-b9d9-2cf7b44dc717"
      },
      "source": [
        "print (\"dict ['Class']: \", dict ['Class'])"
      ],
      "execution_count": 20,
      "outputs": [
        {
          "output_type": "stream",
          "name": "stdout",
          "text": [
            "dict ['Class']:  First\n"
          ]
        }
      ]
    }
  ]
}